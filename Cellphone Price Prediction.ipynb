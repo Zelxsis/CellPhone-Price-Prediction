{
 "cells": [
  {
   "cell_type": "code",
   "execution_count": null,
   "id": "cc0339a0",
   "metadata": {},
   "outputs": [],
   "source": [
    "#importing required libraries\n",
    "%matplotlib inline\n",
    "import pandas as pd\n",
    "import numpy as np\n",
    "import seaborn as sns\n",
    "import matplotlib.pyplot as plt\n",
    "import warnings\n",
    "warnings.filterwarnings('ignore')"
   ]
  },
  {
   "cell_type": "markdown",
   "id": "c0ff7f91",
   "metadata": {},
   "source": [
    "\n"
   ]
  },
  {
   "cell_type": "code",
   "execution_count": null,
   "id": "226ab747",
   "metadata": {},
   "outputs": [],
   "source": [
    "#importing and reading the data\n",
    "data = pd.read_csv('C:\\\\Users\\\\ccuti\\\\Data Science\\\\Completed\\\\Cellphone Price Prediction\\\\data\\\\datasets_11167_15520_train.csv')"
   ]
  },
  {
   "cell_type": "code",
   "execution_count": null,
   "id": "32a41419",
   "metadata": {},
   "outputs": [],
   "source": [
    "data.head()"
   ]
  },
  {
   "cell_type": "code",
   "execution_count": null,
   "id": "b32703f7",
   "metadata": {},
   "outputs": [],
   "source": [
    "data.describe()"
   ]
  },
  {
   "cell_type": "code",
   "execution_count": null,
   "id": "e0228dff",
   "metadata": {},
   "outputs": [],
   "source": [
    "data.info()"
   ]
  },
  {
   "cell_type": "code",
   "execution_count": null,
   "id": "33fc0d7f",
   "metadata": {},
   "outputs": [],
   "source": [
    "##DATA VISULIZATION"
   ]
  },
  {
   "cell_type": "code",
   "execution_count": null,
   "id": "717caaf2",
   "metadata": {},
   "outputs": [],
   "source": [
    "plt.hist(data['battery_power'])\n",
    "plt.show()"
   ]
  },
  {
   "cell_type": "code",
   "execution_count": null,
   "id": "a4127e91",
   "metadata": {},
   "outputs": [],
   "source": [
    "sns.countplot(data['price_range'])\n",
    "plt.show()\n",
    "#We can see that there are 4 price ranges and they are distributed equally"
   ]
  },
  {
   "cell_type": "code",
   "execution_count": null,
   "id": "bea37088",
   "metadata": {},
   "outputs": [],
   "source": [
    "sns.boxplot(data['price_range'],data['clock_speed'])\n",
    "#We can see that clock speed affects category mobile 0 more"
   ]
  },
  {
   "cell_type": "code",
   "execution_count": null,
   "id": "6728cd6b",
   "metadata": {},
   "outputs": [],
   "source": [
    "sns.boxplot(data['dual_sim'],data['price_range'])\n",
    "#We can see that there are more dual sim phones when compared to single sim phones\n",
    "#The price pf dual sim phones impacts the price of the phone"
   ]
  },
  {
   "cell_type": "code",
   "execution_count": null,
   "id": "925f40be",
   "metadata": {},
   "outputs": [],
   "source": [
    "sns.boxplot(data['blue'],data['price_range'])"
   ]
  },
  {
   "cell_type": "code",
   "execution_count": null,
   "id": "0a54da52",
   "metadata": {},
   "outputs": [],
   "source": [
    "sns.boxplot(data['four_g'],data['price_range'])\n",
    "plt.show()\n",
    "#Through this plot we can see that price range of 4G phones is higher.It will play an important role in classification\n"
   ]
  },
  {
   "cell_type": "code",
   "execution_count": null,
   "id": "90dcd012",
   "metadata": {},
   "outputs": [],
   "source": [
    "plt.hist(data['int_memory'])\n",
    "plt.show()"
   ]
  },
  {
   "cell_type": "code",
   "execution_count": null,
   "id": "558e61da",
   "metadata": {},
   "outputs": [],
   "source": [
    "sns.boxplot(data['price_range'],data['int_memory'])\n",
    "plt.show()"
   ]
  },
  {
   "cell_type": "code",
   "execution_count": null,
   "id": "2274ce03",
   "metadata": {},
   "outputs": [],
   "source": [
    "plt.hist(data['mobile_wt'])\n",
    "plt.show()\n",
    "##Almost evenly spread across data set"
   ]
  },
  {
   "cell_type": "code",
   "execution_count": null,
   "id": "5d12c04d",
   "metadata": {},
   "outputs": [],
   "source": [
    "sns.boxplot(data['n_cores'],data['price_range'])\n",
    "plt.show()"
   ]
  },
  {
   "cell_type": "code",
   "execution_count": null,
   "id": "398d629b",
   "metadata": {},
   "outputs": [],
   "source": [
    "sns.boxplot(data['sc_h'],data['price_range'])\n",
    "plt.show()\n",
    "#Some screen sizes are in high price range\n"
   ]
  },
  {
   "cell_type": "code",
   "execution_count": null,
   "id": "409e6855",
   "metadata": {},
   "outputs": [],
   "source": [
    "sns.boxplot(data['ram'],data['price_range'])\n",
    "plt.show()"
   ]
  },
  {
   "cell_type": "code",
   "execution_count": null,
   "id": "6afcff1a",
   "metadata": {},
   "outputs": [],
   "source": [
    "sns.boxplot(data['three_g'],data['price_range'])\n",
    "plt.show()"
   ]
  },
  {
   "cell_type": "code",
   "execution_count": null,
   "id": "9c034540",
   "metadata": {},
   "outputs": [],
   "source": [
    "sns.boxplot(data['wifi'],data['price_range'])\n",
    "plt.show()\n",
    "#Price Range of wifi phones are considerably higher. This Denotes that wifi plays an important role in classification"
   ]
  },
  {
   "cell_type": "code",
   "execution_count": null,
   "id": "f8e9eea7",
   "metadata": {},
   "outputs": [],
   "source": [
    "corr =data.corr()\n",
    "fig = plt.subplots (figsize = (12, 12))\n",
    "sns.heatmap(data.corr(), square = True, cbar = True, annot = True, cmap=\"GnBu\", annot_kws = {'size': 8})\n",
    "plt.title('Correlations between Attributes')\n",
    "plt.show ()\n",
    "\n",
    "#As we can see our target price range has highly positive correlation between ram\n",
    "#3G and 4G\n",
    "#pc(Primary Camera mega pixels) and fc(Front Camera mega pixels)\n",
    "#px_weight(Pixel Resolution Width) and px_height(Pixel Resolution Height)\n",
    "#sc_w(Screen Width of mobile in cm) and sc_h(Screen Height of mobile in cm)\n",
    "#features have highly positive correlation."
   ]
  },
  {
   "cell_type": "code",
   "execution_count": null,
   "id": "9a470a67",
   "metadata": {},
   "outputs": [],
   "source": [
    "data.drop(columns = ['Id',], inplace=True)"
   ]
  },
  {
   "cell_type": "code",
   "execution_count": null,
   "id": "67c2cb32",
   "metadata": {},
   "outputs": [],
   "source": [
    "#PROCESSING : Since all features have different range of values, we will be preprocessing the data by standardizing it\n",
    "from sklearn.preprocessing import StandardScaler\n",
    "from sklearn.model_selection import train_test_split\n",
    "\n",
    "scaler = StandardScaler()\n",
    "X = data.drop('price_range',axis=1)\n",
    "y = data['price_range']\n",
    "X_train, X_test, y_train, y_test = train_test_split(X, y, test_size = 0.20,random_state =40)\n",
    "\n",
    "scaler.fit(X)\n",
    "X_transformed = scaler.transform(X)"
   ]
  },
  {
   "cell_type": "code",
   "execution_count": null,
   "id": "39677774",
   "metadata": {},
   "outputs": [],
   "source": []
  },
  {
   "cell_type": "code",
   "execution_count": null,
   "id": "7d1b33ef",
   "metadata": {},
   "outputs": [],
   "source": [
    "#Simple Logistic regression model with scaled features\n",
    "from sklearn.linear_model import LogisticRegression\n",
    "from sklearn.metrics import accuracy_score,confusion_matrix\n",
    "\n",
    "model_lr = LogisticRegression()\n",
    "model_lr.fit(X_train,y_train)\n",
    "y_train_pred = model_lr.predict(X_train)\n",
    "y_test_pred = model_lr.predict(X_test)\n",
    "\n",
    "\n",
    "print(\"Train Set Accuracy:\"+str(accuracy_score(y_train_pred,y_train)*100))\n",
    "print(\"Test Set Accuracy:\"+str(accuracy_score(y_test_pred,y_test)*100))"
   ]
  },
  {
   "cell_type": "code",
   "execution_count": null,
   "id": "76bb4406",
   "metadata": {},
   "outputs": [],
   "source": [
    "from sklearn.tree import DecisionTreeClassifier\n",
    "#Decision Tree Classifier classifier\n",
    "model_dt = DecisionTreeClassifier()\n",
    "model_dt.fit(X_train,y_train)\n",
    "y_train_pred = model_dt.predict(X_train)\n",
    "y_test_pred = model_dt.predict(X_test)\n",
    "\n",
    "\n",
    "print(\"Train Set Accuracy:\"+str(accuracy_score(y_train_pred,y_train)*100))\n",
    "print(\"Test Set Accuracy:\"+str(accuracy_score(y_test_pred,y_test)*100))\n",
    "print(\"\\nConfusion Matrix:\\n%s\"%confusion_matrix(y_test_pred,y_test))"
   ]
  },
  {
   "cell_type": "code",
   "execution_count": null,
   "id": "388580b3",
   "metadata": {},
   "outputs": [],
   "source": [
    "from sklearn.neighbors import KNeighborsClassifier\n",
    "model_knn = KNeighborsClassifier(n_neighbors=3)  \n",
    "model_knn.fit(X_train, y_train)\n",
    "y_train_pred = model_knn.predict(X_train)\n",
    "y_test_pred = model_knn.predict(X_test)\n",
    "print(\"Train Set Accuracy:\"+str(accuracy_score(y_train_pred,y_train)*100))\n",
    "print(\"Test Set Accuracy:\"+str(accuracy_score(y_test_pred,y_test)*100))\n",
    "print(\"\\nConfusion Matrix:\\n%s\"%confusion_matrix(y_test_pred,y_test))"
   ]
  },
  {
   "cell_type": "code",
   "execution_count": null,
   "id": "afae2c0c",
   "metadata": {},
   "outputs": [],
   "source": [
    "## Test accurancy score is highest with DecsionTressClassifier, but performs bit poorly with test data this we can go for knn"
   ]
  },
  {
   "cell_type": "code",
   "execution_count": null,
   "id": "27772b48",
   "metadata": {},
   "outputs": [],
   "source": [
    "predicted_price_range = model_knn.predict(X_test)"
   ]
  },
  {
   "cell_type": "code",
   "execution_count": null,
   "id": "a8833d66",
   "metadata": {},
   "outputs": [],
   "source": [
    "predicted_price_range"
   ]
  }
 ],
 "metadata": {
  "kernelspec": {
   "display_name": "Python 3",
   "language": "python",
   "name": "python3"
  },
  "language_info": {
   "codemirror_mode": {
    "name": "ipython",
    "version": 3
   },
   "file_extension": ".py",
   "mimetype": "text/x-python",
   "name": "python",
   "nbconvert_exporter": "python",
   "pygments_lexer": "ipython3",
   "version": "3.8.8"
  }
 },
 "nbformat": 4,
 "nbformat_minor": 5
}
